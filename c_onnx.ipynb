{
 "cells": [
  {
   "cell_type": "code",
   "execution_count": null,
   "id": "34b76b1d",
   "metadata": {},
   "outputs": [],
   "source": [
    "sd"
   ]
  }
 ],
 "metadata": {
  "kernelspec": {
   "display_name": "Python 3 (ipykernel)",
   "language": "python",
   "name": "python3"
  }
 },
 "nbformat": 4,
 "nbformat_minor": 5
}
